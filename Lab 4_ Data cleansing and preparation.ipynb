{
 "cells": [
  {
   "attachments": {},
   "cell_type": "markdown",
   "metadata": {
    "datalore": {
     "hide_input_from_viewers": false,
     "hide_output_from_viewers": false,
     "node_id": "BAHA9qyJlNE8u0I5DktGaX",
     "report_properties": {
      "y": 0
     },
     "type": "MD"
    }
   },
   "source": [
    "# LAB 4 : Data cleansing\n",
    "\n",
    "| Member Name                         | Student ID           |\n",
    "|----------------------------------------|-----------------------|\n",
    "|Kanyaluck    Chimchome            |    64070501003   |\n",
    "|Boonyarit     Samran                 |    64070501028   |  \t\n",
    "|Warisara      Patib                     |   64070501044    |  \t\n",
    "|Chanidapa   Chanama                |  64070501090    |\t\n",
    "|Nontawat      Kunlayawuttipong  |  64070501093   \t|"
   ]
  },
  {
   "attachments": {},
   "cell_type": "markdown",
   "metadata": {
    "datalore": {
     "hide_input_from_viewers": false,
     "hide_output_from_viewers": false,
     "node_id": "lbfImi8HPm7ml93hieDtYQ",
     "report_properties": {
      "y": 9
     },
     "type": "MD"
    }
   },
   "source": [
    "## importing libraries and content files"
   ]
  },
  {
   "cell_type": "code",
   "execution_count": 559,
   "metadata": {
    "datalore": {
     "hide_input_from_viewers": false,
     "hide_output_from_viewers": false,
     "node_id": "zNq5ZuN9aAalHCfTfw4ROW",
     "report_properties": {
      "y": 12
     },
     "type": "CODE"
    }
   },
   "outputs": [],
   "source": [
    "import numpy as np\n",
    "import pandas as pd\n",
    "import matplotlib.pyplot as plt"
   ]
  },
  {
   "cell_type": "code",
   "execution_count": 560,
   "metadata": {
    "datalore": {
     "hide_input_from_viewers": false,
     "hide_output_from_viewers": false,
     "node_id": "jATEc4z0CdmPubruym3jxW",
     "report_properties": {
      "y": 16
     },
     "type": "CODE"
    }
   },
   "outputs": [],
   "source": [
    "cd_card = pd.read_csv(\"credit_card_transaction/credit_card_info.csv\")\n",
    "cd_tst = pd.read_csv(\"credit_card_transaction/credit_transaction.csv\")\n",
    "cd_user = pd.read_csv(\"credit_card_transaction/credit_users.csv\")\n",
    "mc_code = pd.read_csv(\"credit_card_transaction/mcc_codes.csv\")"
   ]
  },
  {
   "attachments": {},
   "cell_type": "markdown",
   "metadata": {
    "datalore": {
     "hide_input_from_viewers": false,
     "hide_output_from_viewers": false,
     "node_id": "J97BoVrHEqxIrxC9H9X7Z4",
     "report_properties": {
      "y": 20
     },
     "type": "MD"
    }
   },
   "source": [
    "## viewing datatype and missing data observation"
   ]
  },
  {
   "attachments": {},
   "cell_type": "markdown",
   "metadata": {
    "datalore": {
     "hide_input_from_viewers": true,
     "hide_output_from_viewers": true,
     "node_id": "iHWljQGQR0MOmDbrshz69X",
     "type": "MD"
    }
   },
   "source": [
    "### credit card"
   ]
  },
  {
   "cell_type": "code",
   "execution_count": 578,
   "metadata": {
    "datalore": {
     "hide_input_from_viewers": true,
     "hide_output_from_viewers": true,
     "node_id": "xNzAbtMBbmcOzorv6KK2sL",
     "type": "CODE"
    }
   },
   "outputs": [
    {
     "data": {
      "text/html": [
       "<div>\n",
       "<style scoped>\n",
       "    .dataframe tbody tr th:only-of-type {\n",
       "        vertical-align: middle;\n",
       "    }\n",
       "\n",
       "    .dataframe tbody tr th {\n",
       "        vertical-align: top;\n",
       "    }\n",
       "\n",
       "    .dataframe thead th {\n",
       "        text-align: right;\n",
       "    }\n",
       "</style>\n",
       "<table border=\"1\" class=\"dataframe\">\n",
       "  <thead>\n",
       "    <tr style=\"text-align: right;\">\n",
       "      <th></th>\n",
       "      <th>Unnamed: 0</th>\n",
       "      <th>user_id</th>\n",
       "      <th>card_index</th>\n",
       "      <th>card_brand</th>\n",
       "      <th>card_type</th>\n",
       "      <th>card_number</th>\n",
       "      <th>expires</th>\n",
       "      <th>cvv</th>\n",
       "      <th>has_chip</th>\n",
       "      <th>cards_issued</th>\n",
       "      <th>credit_limit</th>\n",
       "      <th>acct_open_date</th>\n",
       "      <th>year_pin_last_changed</th>\n",
       "      <th>card_on_dark_web</th>\n",
       "    </tr>\n",
       "  </thead>\n",
       "  <tbody>\n",
       "    <tr>\n",
       "      <th>0</th>\n",
       "      <td>0</td>\n",
       "      <td>4e98b4b9-f30f-4117-bf0b-49c6b550aba6</td>\n",
       "      <td>0</td>\n",
       "      <td>Visa</td>\n",
       "      <td>Debit</td>\n",
       "      <td>1babcd4449ec29a14074260879c13049</td>\n",
       "      <td>12/2022</td>\n",
       "      <td>623</td>\n",
       "      <td>YES</td>\n",
       "      <td>2</td>\n",
       "      <td>$24295</td>\n",
       "      <td>09/2002</td>\n",
       "      <td>2008</td>\n",
       "      <td>No</td>\n",
       "    </tr>\n",
       "    <tr>\n",
       "      <th>1</th>\n",
       "      <td>1</td>\n",
       "      <td>4e98b4b9-f30f-4117-bf0b-49c6b550aba6</td>\n",
       "      <td>1</td>\n",
       "      <td>Visa</td>\n",
       "      <td>Debit</td>\n",
       "      <td>4a3fd33483704236f3af0d3e5a602f4f</td>\n",
       "      <td>12/2020</td>\n",
       "      <td>393</td>\n",
       "      <td>YES</td>\n",
       "      <td>2</td>\n",
       "      <td>$21968</td>\n",
       "      <td>04/2014</td>\n",
       "      <td>2014</td>\n",
       "      <td>No</td>\n",
       "    </tr>\n",
       "    <tr>\n",
       "      <th>2</th>\n",
       "      <td>2</td>\n",
       "      <td>4e98b4b9-f30f-4117-bf0b-49c6b550aba6</td>\n",
       "      <td>2</td>\n",
       "      <td>Visa</td>\n",
       "      <td>Debit</td>\n",
       "      <td>ea724c282ec208a9c826c2c6bc33b9c7</td>\n",
       "      <td>02/2024</td>\n",
       "      <td>719</td>\n",
       "      <td>YES</td>\n",
       "      <td>2</td>\n",
       "      <td>$46414</td>\n",
       "      <td>07/2003</td>\n",
       "      <td>2004</td>\n",
       "      <td>No</td>\n",
       "    </tr>\n",
       "    <tr>\n",
       "      <th>3</th>\n",
       "      <td>3</td>\n",
       "      <td>4e98b4b9-f30f-4117-bf0b-49c6b550aba6</td>\n",
       "      <td>3</td>\n",
       "      <td>Visa</td>\n",
       "      <td>Credit</td>\n",
       "      <td>e24a12553d70b3b18e2d4b3162d82e13</td>\n",
       "      <td>08/2024</td>\n",
       "      <td>693</td>\n",
       "      <td>NO</td>\n",
       "      <td>1</td>\n",
       "      <td>$12400</td>\n",
       "      <td>01/2003</td>\n",
       "      <td>2012</td>\n",
       "      <td>No</td>\n",
       "    </tr>\n",
       "    <tr>\n",
       "      <th>4</th>\n",
       "      <td>4</td>\n",
       "      <td>4e98b4b9-f30f-4117-bf0b-49c6b550aba6</td>\n",
       "      <td>4</td>\n",
       "      <td>Mastercard</td>\n",
       "      <td>Debit (Prepaid)</td>\n",
       "      <td>65f39625b0df0d5f38860ab79ed2e713</td>\n",
       "      <td>03/2009</td>\n",
       "      <td>75</td>\n",
       "      <td>YES</td>\n",
       "      <td>1</td>\n",
       "      <td>$28</td>\n",
       "      <td>09/2008</td>\n",
       "      <td>2009</td>\n",
       "      <td>No</td>\n",
       "    </tr>\n",
       "  </tbody>\n",
       "</table>\n",
       "</div>"
      ],
      "text/plain": [
       "   Unnamed: 0                               user_id  card_index  card_brand  \\\n",
       "0           0  4e98b4b9-f30f-4117-bf0b-49c6b550aba6           0        Visa   \n",
       "1           1  4e98b4b9-f30f-4117-bf0b-49c6b550aba6           1        Visa   \n",
       "2           2  4e98b4b9-f30f-4117-bf0b-49c6b550aba6           2        Visa   \n",
       "3           3  4e98b4b9-f30f-4117-bf0b-49c6b550aba6           3        Visa   \n",
       "4           4  4e98b4b9-f30f-4117-bf0b-49c6b550aba6           4  Mastercard   \n",
       "\n",
       "         card_type                       card_number  expires  cvv has_chip  \\\n",
       "0            Debit  1babcd4449ec29a14074260879c13049  12/2022  623      YES   \n",
       "1            Debit  4a3fd33483704236f3af0d3e5a602f4f  12/2020  393      YES   \n",
       "2            Debit  ea724c282ec208a9c826c2c6bc33b9c7  02/2024  719      YES   \n",
       "3           Credit  e24a12553d70b3b18e2d4b3162d82e13  08/2024  693       NO   \n",
       "4  Debit (Prepaid)  65f39625b0df0d5f38860ab79ed2e713  03/2009   75      YES   \n",
       "\n",
       "   cards_issued credit_limit acct_open_date  year_pin_last_changed  \\\n",
       "0             2       $24295        09/2002                   2008   \n",
       "1             2       $21968        04/2014                   2014   \n",
       "2             2       $46414        07/2003                   2004   \n",
       "3             1       $12400        01/2003                   2012   \n",
       "4             1          $28        09/2008                   2009   \n",
       "\n",
       "  card_on_dark_web  \n",
       "0               No  \n",
       "1               No  \n",
       "2               No  \n",
       "3               No  \n",
       "4               No  "
      ]
     },
     "execution_count": 578,
     "metadata": {},
     "output_type": "execute_result"
    }
   ],
   "source": [
    "cd_card.head()"
   ]
  },
  {
   "cell_type": "code",
   "execution_count": 562,
   "metadata": {
    "datalore": {
     "hide_input_from_viewers": false,
     "hide_output_from_viewers": false,
     "node_id": "16AZCBOBwU7eSsqRUDWVN5",
     "report_properties": {
      "y": 23
     },
     "type": "CODE"
    }
   },
   "outputs": [
    {
     "name": "stdout",
     "output_type": "stream",
     "text": [
      "<class 'pandas.core.frame.DataFrame'>\n",
      "RangeIndex: 732 entries, 0 to 731\n",
      "Data columns (total 14 columns):\n",
      " #   Column                 Non-Null Count  Dtype \n",
      "---  ------                 --------------  ----- \n",
      " 0   Unnamed: 0             732 non-null    int64 \n",
      " 1   user_id                732 non-null    object\n",
      " 2   card_index             732 non-null    int64 \n",
      " 3   card_brand             732 non-null    object\n",
      " 4   card_type              732 non-null    object\n",
      " 5   card_number            732 non-null    object\n",
      " 6   expires                732 non-null    object\n",
      " 7   cvv                    732 non-null    int64 \n",
      " 8   has_chip               732 non-null    object\n",
      " 9   cards_issued           732 non-null    int64 \n",
      " 10  credit_limit           732 non-null    object\n",
      " 11  acct_open_date         732 non-null    object\n",
      " 12  year_pin_last_changed  732 non-null    int64 \n",
      " 13  card_on_dark_web       732 non-null    object\n",
      "dtypes: int64(5), object(9)\n",
      "memory usage: 471.1 KB\n"
     ]
    }
   ],
   "source": [
    "cd_card.info(memory_usage=\"deep\")"
   ]
  },
  {
   "attachments": {},
   "cell_type": "markdown",
   "metadata": {
    "datalore": {
     "hide_input_from_viewers": true,
     "hide_output_from_viewers": true,
     "node_id": "gIxU2iXEcQpVCr55HHd3AW",
     "type": "MD"
    }
   },
   "source": [
    "### credit transaction"
   ]
  },
  {
   "cell_type": "code",
   "execution_count": 563,
   "metadata": {
    "datalore": {
     "hide_input_from_viewers": true,
     "hide_output_from_viewers": true,
     "node_id": "REjuzrv7ODxDlfQjfGVW3U",
     "type": "CODE"
    }
   },
   "outputs": [
    {
     "data": {
      "text/html": [
       "<div>\n",
       "<style scoped>\n",
       "    .dataframe tbody tr th:only-of-type {\n",
       "        vertical-align: middle;\n",
       "    }\n",
       "\n",
       "    .dataframe tbody tr th {\n",
       "        vertical-align: top;\n",
       "    }\n",
       "\n",
       "    .dataframe thead th {\n",
       "        text-align: right;\n",
       "    }\n",
       "</style>\n",
       "<table border=\"1\" class=\"dataframe\">\n",
       "  <thead>\n",
       "    <tr style=\"text-align: right;\">\n",
       "      <th></th>\n",
       "      <th>Unnamed: 0</th>\n",
       "      <th>transaction_datetime</th>\n",
       "      <th>user_id</th>\n",
       "      <th>card</th>\n",
       "      <th>amount</th>\n",
       "      <th>use_chip</th>\n",
       "      <th>merchant_id</th>\n",
       "      <th>merchant_city</th>\n",
       "      <th>merchant_state</th>\n",
       "      <th>zip</th>\n",
       "      <th>mcc</th>\n",
       "      <th>errors</th>\n",
       "      <th>is_fraud</th>\n",
       "    </tr>\n",
       "  </thead>\n",
       "  <tbody>\n",
       "    <tr>\n",
       "      <th>0</th>\n",
       "      <td>0</td>\n",
       "      <td>2002-09-01 06:21:15</td>\n",
       "      <td>4e98b4b9-f30f-4117-bf0b-49c6b550aba6</td>\n",
       "      <td>0</td>\n",
       "      <td>134.09</td>\n",
       "      <td>Swipe Transaction</td>\n",
       "      <td>aec1f6b6-0713-480c-ba05-2bf31892f39c</td>\n",
       "      <td>La Verne</td>\n",
       "      <td>CA</td>\n",
       "      <td>91750.0</td>\n",
       "      <td>5300</td>\n",
       "      <td>NaN</td>\n",
       "      <td>No</td>\n",
       "    </tr>\n",
       "    <tr>\n",
       "      <th>1</th>\n",
       "      <td>1</td>\n",
       "      <td>2002-09-01 06:42:17</td>\n",
       "      <td>4e98b4b9-f30f-4117-bf0b-49c6b550aba6</td>\n",
       "      <td>0</td>\n",
       "      <td>38.48</td>\n",
       "      <td>Swipe Transaction</td>\n",
       "      <td>9f645ffc-fa0a-44ec-8e60-7533bccf63d9</td>\n",
       "      <td>Monterey Park</td>\n",
       "      <td>CA</td>\n",
       "      <td>91754.0</td>\n",
       "      <td>5411</td>\n",
       "      <td>NaN</td>\n",
       "      <td>No</td>\n",
       "    </tr>\n",
       "    <tr>\n",
       "      <th>2</th>\n",
       "      <td>2</td>\n",
       "      <td>2002-09-02 06:22:57</td>\n",
       "      <td>4e98b4b9-f30f-4117-bf0b-49c6b550aba6</td>\n",
       "      <td>0</td>\n",
       "      <td>120.34</td>\n",
       "      <td>Swipe Transaction</td>\n",
       "      <td>9f645ffc-fa0a-44ec-8e60-7533bccf63d9</td>\n",
       "      <td>Monterey Park</td>\n",
       "      <td>CA</td>\n",
       "      <td>91754.0</td>\n",
       "      <td>5411</td>\n",
       "      <td>NaN</td>\n",
       "      <td>No</td>\n",
       "    </tr>\n",
       "    <tr>\n",
       "      <th>3</th>\n",
       "      <td>3</td>\n",
       "      <td>2002-09-02 17:45:54</td>\n",
       "      <td>4e98b4b9-f30f-4117-bf0b-49c6b550aba6</td>\n",
       "      <td>0</td>\n",
       "      <td>128.95</td>\n",
       "      <td>Swipe Transaction</td>\n",
       "      <td>fc611f1f-7adf-42b3-b741-1749bb07eacf</td>\n",
       "      <td>Monterey Park</td>\n",
       "      <td>CA</td>\n",
       "      <td>91754.0</td>\n",
       "      <td>5651</td>\n",
       "      <td>NaN</td>\n",
       "      <td>No</td>\n",
       "    </tr>\n",
       "    <tr>\n",
       "      <th>4</th>\n",
       "      <td>4</td>\n",
       "      <td>2002-09-03 06:23:01</td>\n",
       "      <td>4e98b4b9-f30f-4117-bf0b-49c6b550aba6</td>\n",
       "      <td>0</td>\n",
       "      <td>104.71</td>\n",
       "      <td>Swipe Transaction</td>\n",
       "      <td>370f2dcc-3168-4b18-a6c6-8e612709695a</td>\n",
       "      <td>La Verne</td>\n",
       "      <td>CA</td>\n",
       "      <td>91750.0</td>\n",
       "      <td>5912</td>\n",
       "      <td>NaN</td>\n",
       "      <td>No</td>\n",
       "    </tr>\n",
       "  </tbody>\n",
       "</table>\n",
       "</div>"
      ],
      "text/plain": [
       "   Unnamed: 0 transaction_datetime                               user_id  \\\n",
       "0           0  2002-09-01 06:21:15  4e98b4b9-f30f-4117-bf0b-49c6b550aba6   \n",
       "1           1  2002-09-01 06:42:17  4e98b4b9-f30f-4117-bf0b-49c6b550aba6   \n",
       "2           2  2002-09-02 06:22:57  4e98b4b9-f30f-4117-bf0b-49c6b550aba6   \n",
       "3           3  2002-09-02 17:45:54  4e98b4b9-f30f-4117-bf0b-49c6b550aba6   \n",
       "4           4  2002-09-03 06:23:01  4e98b4b9-f30f-4117-bf0b-49c6b550aba6   \n",
       "\n",
       "   card  amount           use_chip                           merchant_id  \\\n",
       "0     0  134.09  Swipe Transaction  aec1f6b6-0713-480c-ba05-2bf31892f39c   \n",
       "1     0   38.48  Swipe Transaction  9f645ffc-fa0a-44ec-8e60-7533bccf63d9   \n",
       "2     0  120.34  Swipe Transaction  9f645ffc-fa0a-44ec-8e60-7533bccf63d9   \n",
       "3     0  128.95  Swipe Transaction  fc611f1f-7adf-42b3-b741-1749bb07eacf   \n",
       "4     0  104.71  Swipe Transaction  370f2dcc-3168-4b18-a6c6-8e612709695a   \n",
       "\n",
       "   merchant_city merchant_state      zip   mcc errors is_fraud  \n",
       "0       La Verne             CA  91750.0  5300    NaN       No  \n",
       "1  Monterey Park             CA  91754.0  5411    NaN       No  \n",
       "2  Monterey Park             CA  91754.0  5411    NaN       No  \n",
       "3  Monterey Park             CA  91754.0  5651    NaN       No  \n",
       "4       La Verne             CA  91750.0  5912    NaN       No  "
      ]
     },
     "execution_count": 563,
     "metadata": {},
     "output_type": "execute_result"
    }
   ],
   "source": [
    "cd_tst.head()"
   ]
  },
  {
   "cell_type": "code",
   "execution_count": 564,
   "metadata": {
    "datalore": {
     "hide_input_from_viewers": true,
     "hide_output_from_viewers": true,
     "node_id": "mVezYKGkBGIkcVxdRlmEpf",
     "type": "CODE"
    }
   },
   "outputs": [
    {
     "name": "stdout",
     "output_type": "stream",
     "text": [
      "<class 'pandas.core.frame.DataFrame'>\n",
      "RangeIndex: 2969557 entries, 0 to 2969556\n",
      "Data columns (total 13 columns):\n",
      " #   Column                Dtype  \n",
      "---  ------                -----  \n",
      " 0   Unnamed: 0            int64  \n",
      " 1   transaction_datetime  object \n",
      " 2   user_id               object \n",
      " 3   card                  int64  \n",
      " 4   amount                float64\n",
      " 5   use_chip              object \n",
      " 6   merchant_id           object \n",
      " 7   merchant_city         object \n",
      " 8   merchant_state        object \n",
      " 9   zip                   float64\n",
      " 10  mcc                   int64  \n",
      " 11  errors                object \n",
      " 12  is_fraud              object \n",
      "dtypes: float64(2), int64(3), object(8)\n",
      "memory usage: 294.5+ MB\n"
     ]
    }
   ],
   "source": [
    "cd_tst.info()"
   ]
  },
  {
   "cell_type": "code",
   "execution_count": 565,
   "metadata": {
    "datalore": {
     "hide_input_from_viewers": true,
     "hide_output_from_viewers": true,
     "node_id": "eGeUKbasm9SN6Is0W1zlAL",
     "type": "CODE"
    }
   },
   "outputs": [
    {
     "data": {
      "text/plain": [
       "Unnamed: 0                    0\n",
       "transaction_datetime          0\n",
       "user_id                       0\n",
       "card                          0\n",
       "amount                        0\n",
       "use_chip                      0\n",
       "merchant_id                   0\n",
       "merchant_city                 0\n",
       "merchant_state           377166\n",
       "zip                      398187\n",
       "mcc                           0\n",
       "errors                  2924122\n",
       "is_fraud                      0\n",
       "dtype: int64"
      ]
     },
     "execution_count": 565,
     "metadata": {},
     "output_type": "execute_result"
    }
   ],
   "source": [
    "cd_tst.isna().sum()"
   ]
  },
  {
   "attachments": {},
   "cell_type": "markdown",
   "metadata": {
    "datalore": {
     "hide_input_from_viewers": true,
     "hide_output_from_viewers": true,
     "node_id": "IUEkpCHzk6WI2Hf1xcS2hC",
     "type": "MD"
    }
   },
   "source": [
    "### credit users"
   ]
  },
  {
   "cell_type": "code",
   "execution_count": 566,
   "metadata": {
    "datalore": {
     "hide_input_from_viewers": true,
     "hide_output_from_viewers": true,
     "node_id": "5Krinn7HDxCJBa4KLOOfM6",
     "type": "CODE"
    }
   },
   "outputs": [
    {
     "data": {
      "text/html": [
       "<div>\n",
       "<style scoped>\n",
       "    .dataframe tbody tr th:only-of-type {\n",
       "        vertical-align: middle;\n",
       "    }\n",
       "\n",
       "    .dataframe tbody tr th {\n",
       "        vertical-align: top;\n",
       "    }\n",
       "\n",
       "    .dataframe thead th {\n",
       "        text-align: right;\n",
       "    }\n",
       "</style>\n",
       "<table border=\"1\" class=\"dataframe\">\n",
       "  <thead>\n",
       "    <tr style=\"text-align: right;\">\n",
       "      <th></th>\n",
       "      <th>Unnamed: 0</th>\n",
       "      <th>user_id</th>\n",
       "      <th>person</th>\n",
       "      <th>date_of_birth</th>\n",
       "      <th>retirement_age</th>\n",
       "      <th>gender</th>\n",
       "      <th>address</th>\n",
       "      <th>apartment</th>\n",
       "      <th>city</th>\n",
       "      <th>state</th>\n",
       "      <th>zipcode</th>\n",
       "      <th>per_capita_income_zipcode</th>\n",
       "      <th>yearly_income_person</th>\n",
       "      <th>total_debt</th>\n",
       "      <th>fico_score</th>\n",
       "      <th>num_credit_cards</th>\n",
       "    </tr>\n",
       "  </thead>\n",
       "  <tbody>\n",
       "    <tr>\n",
       "      <th>0</th>\n",
       "      <td>0</td>\n",
       "      <td>4e98b4b9-f30f-4117-bf0b-49c6b550aba6</td>\n",
       "      <td>Hazel Robinson</td>\n",
       "      <td>1966/11/24</td>\n",
       "      <td>66</td>\n",
       "      <td>Female</td>\n",
       "      <td>462 Rose Lane</td>\n",
       "      <td>NaN</td>\n",
       "      <td>La Verne</td>\n",
       "      <td>CA</td>\n",
       "      <td>91750</td>\n",
       "      <td>$29278</td>\n",
       "      <td>$59696</td>\n",
       "      <td>$127613</td>\n",
       "      <td>787</td>\n",
       "      <td>5</td>\n",
       "    </tr>\n",
       "    <tr>\n",
       "      <th>1</th>\n",
       "      <td>1</td>\n",
       "      <td>8e283e3b-fb65-4d2a-9c7e-b515c94d8402</td>\n",
       "      <td>Sasha Sadr</td>\n",
       "      <td>1966/12/25</td>\n",
       "      <td>68</td>\n",
       "      <td>Female</td>\n",
       "      <td>3606 Federal Boulevard</td>\n",
       "      <td>NaN</td>\n",
       "      <td>Little Neck</td>\n",
       "      <td>NY</td>\n",
       "      <td>11363</td>\n",
       "      <td>$37891</td>\n",
       "      <td>$77254</td>\n",
       "      <td>$191349</td>\n",
       "      <td>701</td>\n",
       "      <td>5</td>\n",
       "    </tr>\n",
       "    <tr>\n",
       "      <th>2</th>\n",
       "      <td>2</td>\n",
       "      <td>8c9b9223-c41c-4999-9cff-f72b9c4bcf7c</td>\n",
       "      <td>Saanvi Lee</td>\n",
       "      <td>1938/11/25</td>\n",
       "      <td>67</td>\n",
       "      <td>Female</td>\n",
       "      <td>766 Third Drive</td>\n",
       "      <td>NaN</td>\n",
       "      <td>West Covina</td>\n",
       "      <td>CA</td>\n",
       "      <td>91792</td>\n",
       "      <td>$22681</td>\n",
       "      <td>$33483</td>\n",
       "      <td>$196</td>\n",
       "      <td>698</td>\n",
       "      <td>5</td>\n",
       "    </tr>\n",
       "    <tr>\n",
       "      <th>3</th>\n",
       "      <td>3</td>\n",
       "      <td>acab43d2-f982-47a1-9b4f-d018d069ae16</td>\n",
       "      <td>Everlee Clark</td>\n",
       "      <td>1957/1/16</td>\n",
       "      <td>63</td>\n",
       "      <td>Female</td>\n",
       "      <td>3 Madison Street</td>\n",
       "      <td>NaN</td>\n",
       "      <td>New York</td>\n",
       "      <td>NY</td>\n",
       "      <td>10069</td>\n",
       "      <td>$163145</td>\n",
       "      <td>$249925</td>\n",
       "      <td>$202328</td>\n",
       "      <td>722</td>\n",
       "      <td>4</td>\n",
       "    </tr>\n",
       "    <tr>\n",
       "      <th>4</th>\n",
       "      <td>4</td>\n",
       "      <td>80884e14-f347-48c3-8848-768e4c33d693</td>\n",
       "      <td>Kyle Peterson</td>\n",
       "      <td>1976/9/3</td>\n",
       "      <td>70</td>\n",
       "      <td>Male</td>\n",
       "      <td>9620 Valley Stream Drive</td>\n",
       "      <td>NaN</td>\n",
       "      <td>San Francisco</td>\n",
       "      <td>CA</td>\n",
       "      <td>94117</td>\n",
       "      <td>$53797</td>\n",
       "      <td>$109687</td>\n",
       "      <td>$183855</td>\n",
       "      <td>675</td>\n",
       "      <td>1</td>\n",
       "    </tr>\n",
       "  </tbody>\n",
       "</table>\n",
       "</div>"
      ],
      "text/plain": [
       "   Unnamed: 0                               user_id          person  \\\n",
       "0           0  4e98b4b9-f30f-4117-bf0b-49c6b550aba6  Hazel Robinson   \n",
       "1           1  8e283e3b-fb65-4d2a-9c7e-b515c94d8402      Sasha Sadr   \n",
       "2           2  8c9b9223-c41c-4999-9cff-f72b9c4bcf7c      Saanvi Lee   \n",
       "3           3  acab43d2-f982-47a1-9b4f-d018d069ae16   Everlee Clark   \n",
       "4           4  80884e14-f347-48c3-8848-768e4c33d693   Kyle Peterson   \n",
       "\n",
       "  date_of_birth  retirement_age  gender                   address  apartment  \\\n",
       "0    1966/11/24              66  Female             462 Rose Lane        NaN   \n",
       "1    1966/12/25              68  Female    3606 Federal Boulevard        NaN   \n",
       "2    1938/11/25              67  Female           766 Third Drive        NaN   \n",
       "3     1957/1/16              63  Female          3 Madison Street        NaN   \n",
       "4      1976/9/3              70    Male  9620 Valley Stream Drive        NaN   \n",
       "\n",
       "            city state  zipcode per_capita_income_zipcode  \\\n",
       "0       La Verne    CA    91750                    $29278   \n",
       "1    Little Neck    NY    11363                    $37891   \n",
       "2    West Covina    CA    91792                    $22681   \n",
       "3       New York    NY    10069                   $163145   \n",
       "4  San Francisco    CA    94117                    $53797   \n",
       "\n",
       "  yearly_income_person total_debt  fico_score  num_credit_cards  \n",
       "0               $59696    $127613         787                 5  \n",
       "1               $77254    $191349         701                 5  \n",
       "2               $33483       $196         698                 5  \n",
       "3              $249925    $202328         722                 4  \n",
       "4              $109687    $183855         675                 1  "
      ]
     },
     "execution_count": 566,
     "metadata": {},
     "output_type": "execute_result"
    }
   ],
   "source": [
    "cd_user.head()"
   ]
  },
  {
   "cell_type": "code",
   "execution_count": 567,
   "metadata": {
    "datalore": {
     "hide_input_from_viewers": false,
     "hide_output_from_viewers": false,
     "node_id": "NduG3BmaavqMJsgp6Qr3Jj",
     "report_properties": {
      "y": 36
     },
     "type": "CODE"
    }
   },
   "outputs": [
    {
     "name": "stdout",
     "output_type": "stream",
     "text": [
      "<class 'pandas.core.frame.DataFrame'>\n",
      "RangeIndex: 250 entries, 0 to 249\n",
      "Data columns (total 16 columns):\n",
      " #   Column                     Non-Null Count  Dtype  \n",
      "---  ------                     --------------  -----  \n",
      " 0   Unnamed: 0                 250 non-null    int64  \n",
      " 1   user_id                    250 non-null    object \n",
      " 2   person                     250 non-null    object \n",
      " 3   date_of_birth              250 non-null    object \n",
      " 4   retirement_age             250 non-null    int64  \n",
      " 5   gender                     250 non-null    object \n",
      " 6   address                    250 non-null    object \n",
      " 7   apartment                  69 non-null     float64\n",
      " 8   city                       250 non-null    object \n",
      " 9   state                      250 non-null    object \n",
      " 10  zipcode                    250 non-null    int64  \n",
      " 11  per_capita_income_zipcode  250 non-null    object \n",
      " 12  yearly_income_person       250 non-null    object \n",
      " 13  total_debt                 250 non-null    object \n",
      " 14  fico_score                 250 non-null    int64  \n",
      " 15  num_credit_cards           250 non-null    int64  \n",
      "dtypes: float64(1), int64(5), object(10)\n",
      "memory usage: 31.4+ KB\n"
     ]
    }
   ],
   "source": [
    "cd_user.info()"
   ]
  },
  {
   "cell_type": "code",
   "execution_count": 568,
   "metadata": {
    "datalore": {
     "hide_input_from_viewers": false,
     "hide_output_from_viewers": false,
     "node_id": "AcXnVjmda7eiRwU4u8HZ7l",
     "report_properties": {
      "y": 49
     },
     "type": "CODE"
    }
   },
   "outputs": [
    {
     "data": {
      "text/plain": [
       "Unnamed: 0                     0\n",
       "user_id                        0\n",
       "person                         0\n",
       "date_of_birth                  0\n",
       "retirement_age                 0\n",
       "gender                         0\n",
       "address                        0\n",
       "apartment                    181\n",
       "city                           0\n",
       "state                          0\n",
       "zipcode                        0\n",
       "per_capita_income_zipcode      0\n",
       "yearly_income_person           0\n",
       "total_debt                     0\n",
       "fico_score                     0\n",
       "num_credit_cards               0\n",
       "dtype: int64"
      ]
     },
     "execution_count": 568,
     "metadata": {},
     "output_type": "execute_result"
    }
   ],
   "source": [
    "cd_user.isna().sum()"
   ]
  },
  {
   "attachments": {},
   "cell_type": "markdown",
   "metadata": {
    "datalore": {
     "hide_input_from_viewers": true,
     "hide_output_from_viewers": true,
     "node_id": "1wpcVAgirYOkVJttFnVfhP",
     "type": "MD"
    }
   },
   "source": [
    "### mcc_codes"
   ]
  },
  {
   "cell_type": "code",
   "execution_count": 569,
   "metadata": {
    "datalore": {
     "hide_input_from_viewers": true,
     "hide_output_from_viewers": true,
     "node_id": "O0MH7sbhEBqSyYtk2Ar5P0",
     "type": "CODE"
    }
   },
   "outputs": [
    {
     "data": {
      "text/html": [
       "<div>\n",
       "<style scoped>\n",
       "    .dataframe tbody tr th:only-of-type {\n",
       "        vertical-align: middle;\n",
       "    }\n",
       "\n",
       "    .dataframe tbody tr th {\n",
       "        vertical-align: top;\n",
       "    }\n",
       "\n",
       "    .dataframe thead th {\n",
       "        text-align: right;\n",
       "    }\n",
       "</style>\n",
       "<table border=\"1\" class=\"dataframe\">\n",
       "  <thead>\n",
       "    <tr style=\"text-align: right;\">\n",
       "      <th></th>\n",
       "      <th>mcc</th>\n",
       "      <th>edited_description</th>\n",
       "      <th>combined_description</th>\n",
       "      <th>usda_description</th>\n",
       "      <th>irs_description</th>\n",
       "      <th>irs_reportable</th>\n",
       "    </tr>\n",
       "  </thead>\n",
       "  <tbody>\n",
       "    <tr>\n",
       "      <th>0</th>\n",
       "      <td>742</td>\n",
       "      <td>Veterinary Services</td>\n",
       "      <td>Veterinary Services</td>\n",
       "      <td>Veterinary Services</td>\n",
       "      <td>Veterinary Services</td>\n",
       "      <td>Yes</td>\n",
       "    </tr>\n",
       "    <tr>\n",
       "      <th>1</th>\n",
       "      <td>763</td>\n",
       "      <td>Agricultural Co-operatives</td>\n",
       "      <td>Agricultural Co-operatives</td>\n",
       "      <td>Agricultural Co-operatives</td>\n",
       "      <td>Agricultural Cooperative</td>\n",
       "      <td>Yes</td>\n",
       "    </tr>\n",
       "    <tr>\n",
       "      <th>2</th>\n",
       "      <td>780</td>\n",
       "      <td>Horticultural Services, Landscaping Services</td>\n",
       "      <td>Horticultural Services, Landscaping Services</td>\n",
       "      <td>Horticultural Services</td>\n",
       "      <td>Landscaping Services</td>\n",
       "      <td>Yes</td>\n",
       "    </tr>\n",
       "    <tr>\n",
       "      <th>3</th>\n",
       "      <td>1520</td>\n",
       "      <td>General Contractors-Residential and Commercial</td>\n",
       "      <td>General Contractors-Residential and Commercial</td>\n",
       "      <td>General Contractors-Residential and Commercial</td>\n",
       "      <td>General Contractors</td>\n",
       "      <td>Yes</td>\n",
       "    </tr>\n",
       "    <tr>\n",
       "      <th>4</th>\n",
       "      <td>1711</td>\n",
       "      <td>Air Conditioning Contractors – Sales and Insta...</td>\n",
       "      <td>Air Conditioning Contractors – Sales and Insta...</td>\n",
       "      <td>Air Conditioning Contractors – Sales and Insta...</td>\n",
       "      <td>Heating, Plumbing, A/C</td>\n",
       "      <td>Yes</td>\n",
       "    </tr>\n",
       "  </tbody>\n",
       "</table>\n",
       "</div>"
      ],
      "text/plain": [
       "    mcc                                 edited_description  \\\n",
       "0   742                                Veterinary Services   \n",
       "1   763                         Agricultural Co-operatives   \n",
       "2   780       Horticultural Services, Landscaping Services   \n",
       "3  1520     General Contractors-Residential and Commercial   \n",
       "4  1711  Air Conditioning Contractors – Sales and Insta...   \n",
       "\n",
       "                                combined_description  \\\n",
       "0                                Veterinary Services   \n",
       "1                         Agricultural Co-operatives   \n",
       "2       Horticultural Services, Landscaping Services   \n",
       "3     General Contractors-Residential and Commercial   \n",
       "4  Air Conditioning Contractors – Sales and Insta...   \n",
       "\n",
       "                                    usda_description  \\\n",
       "0                                Veterinary Services   \n",
       "1                         Agricultural Co-operatives   \n",
       "2                             Horticultural Services   \n",
       "3     General Contractors-Residential and Commercial   \n",
       "4  Air Conditioning Contractors – Sales and Insta...   \n",
       "\n",
       "            irs_description irs_reportable  \n",
       "0       Veterinary Services            Yes  \n",
       "1  Agricultural Cooperative            Yes  \n",
       "2      Landscaping Services            Yes  \n",
       "3       General Contractors            Yes  \n",
       "4    Heating, Plumbing, A/C            Yes  "
      ]
     },
     "execution_count": 569,
     "metadata": {},
     "output_type": "execute_result"
    }
   ],
   "source": [
    "mc_code.head()"
   ]
  },
  {
   "cell_type": "code",
   "execution_count": 570,
   "metadata": {
    "datalore": {
     "hide_input_from_viewers": false,
     "hide_output_from_viewers": false,
     "node_id": "PFwsLcc6XQEVm2EJQecaco",
     "report_properties": {
      "y": 60
     },
     "type": "CODE"
    }
   },
   "outputs": [
    {
     "name": "stdout",
     "output_type": "stream",
     "text": [
      "<class 'pandas.core.frame.DataFrame'>\n",
      "RangeIndex: 981 entries, 0 to 980\n",
      "Data columns (total 6 columns):\n",
      " #   Column                Non-Null Count  Dtype \n",
      "---  ------                --------------  ----- \n",
      " 0   mcc                   981 non-null    int64 \n",
      " 1   edited_description    981 non-null    object\n",
      " 2   combined_description  973 non-null    object\n",
      " 3   usda_description      706 non-null    object\n",
      " 4   irs_description       963 non-null    object\n",
      " 5   irs_reportable        963 non-null    object\n",
      "dtypes: int64(1), object(5)\n",
      "memory usage: 46.1+ KB\n"
     ]
    }
   ],
   "source": [
    "mc_code.info()"
   ]
  },
  {
   "cell_type": "code",
   "execution_count": 571,
   "metadata": {
    "datalore": {
     "hide_input_from_viewers": false,
     "hide_output_from_viewers": false,
     "node_id": "J0bkmG26dIP11z3O332mXV",
     "report_properties": {
      "y": 70
     },
     "type": "CODE"
    }
   },
   "outputs": [
    {
     "data": {
      "text/plain": [
       "mcc                       0\n",
       "edited_description        0\n",
       "combined_description      8\n",
       "usda_description        275\n",
       "irs_description          18\n",
       "irs_reportable           18\n",
       "dtype: int64"
      ]
     },
     "execution_count": 571,
     "metadata": {},
     "output_type": "execute_result"
    }
   ],
   "source": [
    "mc_code.isna().sum()"
   ]
  },
  {
   "attachments": {},
   "cell_type": "markdown",
   "metadata": {
    "datalore": {
     "hide_input_from_viewers": true,
     "hide_output_from_viewers": true,
     "node_id": "bZ2iY5xl3MdthqGr9HYTbV",
     "type": "MD"
    }
   },
   "source": [
    "## Coding "
   ]
  },
  {
   "cell_type": "code",
   "execution_count": 572,
   "metadata": {},
   "outputs": [],
   "source": [
    "user_prof = pd.DataFrame()"
   ]
  },
  {
   "cell_type": "code",
   "execution_count": 573,
   "metadata": {},
   "outputs": [],
   "source": [
    "user_prof[\"user_id\"] = cd_user.user_id"
   ]
  },
  {
   "attachments": {},
   "cell_type": "markdown",
   "metadata": {
    "datalore": {
     "hide_input_from_viewers": true,
     "hide_output_from_viewers": true,
     "node_id": "ExMkffyGfrqdD9Ykk5B3M0",
     "type": "MD"
    }
   },
   "source": [
    "1. Ages in year"
   ]
  },
  {
   "cell_type": "code",
   "execution_count": 574,
   "metadata": {
    "datalore": {
     "hide_input_from_viewers": true,
     "hide_output_from_viewers": true,
     "node_id": "HbStRXu0mLsKWj5tTrD17u",
     "type": "CODE"
    }
   },
   "outputs": [
    {
     "data": {
      "text/plain": [
       "Timestamp('2020-02-28 23:49:03')"
      ]
     },
     "execution_count": 574,
     "metadata": {},
     "output_type": "execute_result"
    }
   ],
   "source": [
    "# get referrence date from max transaction date\n",
    "ref_date = max(pd.to_datetime(cd_tst.transaction_datetime))\n",
    "ref_date"
   ]
  },
  {
   "cell_type": "code",
   "execution_count": 575,
   "metadata": {
    "datalore": {
     "hide_input_from_viewers": true,
     "hide_output_from_viewers": true,
     "node_id": "9CBYWi5XNrQYecXnvqJcmU",
     "type": "CODE"
    }
   },
   "outputs": [],
   "source": [
    "user_prof[\"current_age\"] = (ref_date - pd.to_datetime(cd_user.date_of_birth)).dt.days // 365"
   ]
  },
  {
   "cell_type": "markdown",
   "metadata": {
    "datalore": {
     "hide_input_from_viewers": true,
     "hide_output_from_viewers": true,
     "node_id": "ptGT3cKYw916xSa5imx1AC",
     "type": "CODE"
    }
   },
   "source": [
    "2. Number of active and expired cards"
   ]
  },
  {
   "cell_type": "code",
   "execution_count": 576,
   "metadata": {
    "datalore": {
     "hide_input_from_viewers": true,
     "hide_output_from_viewers": true,
     "node_id": "TdEUAqTV88apb296vuAyV3",
     "type": "CODE"
    }
   },
   "outputs": [
    {
     "name": "stderr",
     "output_type": "stream",
     "text": [
      "C:\\Users\\User\\AppData\\Local\\Temp\\ipykernel_108\\475938028.py:12: FutureWarning: merging between different levels is deprecated and will be removed in a future version. (1 levels on the left, 2 on the right)\n",
      "  user_prof = pd.merge(user_prof, tempExp, on=\"user_id\")\n"
     ]
    }
   ],
   "source": [
    "from pandas.tseries.offsets import MonthEnd\n",
    "\n",
    "# pd.to_datetime(cd_card[\"expires\"]).dt.strftime('%Y-%m')\n",
    "tempDate = pd.to_datetime(cd_card[\"expires\"], format=\"%m/%Y\")\n",
    "tempExp = pd.DataFrame((tempDate - ref_date).dt.days)\n",
    "\n",
    "tempExp[\"user_id\"] = cd_card[\"user_id\"]\n",
    "tempExp[\"expired_cards\"] = tempExp.expires < 0\n",
    "test = tempExp.copy()\n",
    "tempExp = tempExp.groupby([\"user_id\",\"expired_cards\"])['expires'].agg(['count']).unstack(fill_value=0)\n",
    "\n",
    "user_prof = pd.merge(user_prof, tempExp, on=\"user_id\")\n",
    "user_prof.columns = ['user_id', 'current_age', 'active_cards', 'expired_cards']\n"
   ]
  },
  {
   "cell_type": "code",
   "execution_count": 577,
   "metadata": {},
   "outputs": [
    {
     "data": {
      "text/html": [
       "<div>\n",
       "<style scoped>\n",
       "    .dataframe tbody tr th:only-of-type {\n",
       "        vertical-align: middle;\n",
       "    }\n",
       "\n",
       "    .dataframe tbody tr th {\n",
       "        vertical-align: top;\n",
       "    }\n",
       "\n",
       "    .dataframe thead th {\n",
       "        text-align: right;\n",
       "    }\n",
       "</style>\n",
       "<table border=\"1\" class=\"dataframe\">\n",
       "  <thead>\n",
       "    <tr style=\"text-align: right;\">\n",
       "      <th></th>\n",
       "      <th>user_id</th>\n",
       "      <th>current_age</th>\n",
       "      <th>active_cards</th>\n",
       "      <th>expired_cards</th>\n",
       "    </tr>\n",
       "  </thead>\n",
       "  <tbody>\n",
       "    <tr>\n",
       "      <th>0</th>\n",
       "      <td>4e98b4b9-f30f-4117-bf0b-49c6b550aba6</td>\n",
       "      <td>53</td>\n",
       "      <td>4</td>\n",
       "      <td>1</td>\n",
       "    </tr>\n",
       "    <tr>\n",
       "      <th>1</th>\n",
       "      <td>8e283e3b-fb65-4d2a-9c7e-b515c94d8402</td>\n",
       "      <td>53</td>\n",
       "      <td>4</td>\n",
       "      <td>1</td>\n",
       "    </tr>\n",
       "    <tr>\n",
       "      <th>2</th>\n",
       "      <td>8c9b9223-c41c-4999-9cff-f72b9c4bcf7c</td>\n",
       "      <td>81</td>\n",
       "      <td>4</td>\n",
       "      <td>1</td>\n",
       "    </tr>\n",
       "    <tr>\n",
       "      <th>3</th>\n",
       "      <td>acab43d2-f982-47a1-9b4f-d018d069ae16</td>\n",
       "      <td>63</td>\n",
       "      <td>3</td>\n",
       "      <td>1</td>\n",
       "    </tr>\n",
       "    <tr>\n",
       "      <th>4</th>\n",
       "      <td>80884e14-f347-48c3-8848-768e4c33d693</td>\n",
       "      <td>43</td>\n",
       "      <td>1</td>\n",
       "      <td>0</td>\n",
       "    </tr>\n",
       "    <tr>\n",
       "      <th>...</th>\n",
       "      <td>...</td>\n",
       "      <td>...</td>\n",
       "      <td>...</td>\n",
       "      <td>...</td>\n",
       "    </tr>\n",
       "    <tr>\n",
       "      <th>245</th>\n",
       "      <td>2c4e57b3-7314-48fc-8e33-3325fc13c990</td>\n",
       "      <td>18</td>\n",
       "      <td>0</td>\n",
       "      <td>1</td>\n",
       "    </tr>\n",
       "    <tr>\n",
       "      <th>246</th>\n",
       "      <td>9b9ce53a-d20d-499c-a1a3-4e3eb9b56917</td>\n",
       "      <td>50</td>\n",
       "      <td>2</td>\n",
       "      <td>0</td>\n",
       "    </tr>\n",
       "    <tr>\n",
       "      <th>247</th>\n",
       "      <td>91c1a49f-ed8d-4b31-943f-d1300b2560b6</td>\n",
       "      <td>68</td>\n",
       "      <td>2</td>\n",
       "      <td>0</td>\n",
       "    </tr>\n",
       "    <tr>\n",
       "      <th>248</th>\n",
       "      <td>b4fa8930-c642-49ca-be86-7b031dd46067</td>\n",
       "      <td>26</td>\n",
       "      <td>0</td>\n",
       "      <td>1</td>\n",
       "    </tr>\n",
       "    <tr>\n",
       "      <th>249</th>\n",
       "      <td>3314e0d1-ce54-4f22-a04e-31bb78492bda</td>\n",
       "      <td>40</td>\n",
       "      <td>1</td>\n",
       "      <td>0</td>\n",
       "    </tr>\n",
       "  </tbody>\n",
       "</table>\n",
       "<p>250 rows × 4 columns</p>\n",
       "</div>"
      ],
      "text/plain": [
       "                                  user_id  current_age  active_cards  \\\n",
       "0    4e98b4b9-f30f-4117-bf0b-49c6b550aba6           53             4   \n",
       "1    8e283e3b-fb65-4d2a-9c7e-b515c94d8402           53             4   \n",
       "2    8c9b9223-c41c-4999-9cff-f72b9c4bcf7c           81             4   \n",
       "3    acab43d2-f982-47a1-9b4f-d018d069ae16           63             3   \n",
       "4    80884e14-f347-48c3-8848-768e4c33d693           43             1   \n",
       "..                                    ...          ...           ...   \n",
       "245  2c4e57b3-7314-48fc-8e33-3325fc13c990           18             0   \n",
       "246  9b9ce53a-d20d-499c-a1a3-4e3eb9b56917           50             2   \n",
       "247  91c1a49f-ed8d-4b31-943f-d1300b2560b6           68             2   \n",
       "248  b4fa8930-c642-49ca-be86-7b031dd46067           26             0   \n",
       "249  3314e0d1-ce54-4f22-a04e-31bb78492bda           40             1   \n",
       "\n",
       "     expired_cards  \n",
       "0                1  \n",
       "1                1  \n",
       "2                1  \n",
       "3                1  \n",
       "4                0  \n",
       "..             ...  \n",
       "245              1  \n",
       "246              0  \n",
       "247              0  \n",
       "248              1  \n",
       "249              0  \n",
       "\n",
       "[250 rows x 4 columns]"
      ]
     },
     "execution_count": 577,
     "metadata": {},
     "output_type": "execute_result"
    }
   ],
   "source": [
    "user_prof\n"
   ]
  },
  {
   "attachments": {},
   "cell_type": "markdown",
   "metadata": {},
   "source": [
    "3. Total credit limit of active cards"
   ]
  },
  {
   "cell_type": "code",
   "execution_count": null,
   "metadata": {},
   "outputs": [],
   "source": []
  },
  {
   "attachments": {},
   "cell_type": "markdown",
   "metadata": {},
   "source": [
    "4. Time since first card openned (acct_open_date) in months"
   ]
  },
  {
   "cell_type": "code",
   "execution_count": null,
   "metadata": {},
   "outputs": [],
   "source": []
  }
 ],
 "metadata": {
  "datalore": {
   "base_environment": "default",
   "computation_mode": "REACTIVE",
   "package_manager": "pip",
   "packages": [],
   "version": 1
  },
  "kernelspec": {
   "display_name": "venv",
   "language": "python",
   "name": "python3"
  },
  "language_info": {
   "codemirror_mode": {
    "name": "ipython",
    "version": 3
   },
   "file_extension": ".py",
   "mimetype": "text/x-python",
   "name": "python",
   "nbconvert_exporter": "python",
   "pygments_lexer": "ipython3",
   "version": "3.11.1"
  }
 },
 "nbformat": 4,
 "nbformat_minor": 4
}
