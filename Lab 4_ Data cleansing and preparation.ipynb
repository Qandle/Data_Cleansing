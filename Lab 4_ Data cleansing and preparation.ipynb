{
 "cells": [
  {
   "attachments": {},
   "cell_type": "markdown",
   "metadata": {
    "datalore": {
     "hide_input_from_viewers": false,
     "hide_output_from_viewers": false,
     "node_id": "BAHA9qyJlNE8u0I5DktGaX",
     "report_properties": {
      "y": 0
     },
     "type": "MD"
    }
   },
   "source": [
    "# LAB 4 : Data cleansing\n",
    "\n",
    "| Member Name                         | Student ID           |\n",
    "|----------------------------------------|-----------------------|\n",
    "|Kanyaluck    Chimchome            |    64070501003   |\n",
    "|Boonyarit     Samran                 |    64070501028   |  \t\n",
    "|Warisara      Patib                     |   64070501044    |  \t\n",
    "|Chanidapa   Chanama                |  64070501090    |\t\n",
    "|Nontawat      Kunlayawuttipong  |  64070501093   \t|"
   ]
  },
  {
   "attachments": {},
   "cell_type": "markdown",
   "metadata": {
    "datalore": {
     "hide_input_from_viewers": false,
     "hide_output_from_viewers": false,
     "node_id": "lbfImi8HPm7ml93hieDtYQ",
     "report_properties": {
      "y": 9
     },
     "type": "MD"
    }
   },
   "source": [
    "## importing libraries and content files"
   ]
  },
  {
   "cell_type": "code",
   "execution_count": null,
   "metadata": {
    "datalore": {
     "hide_input_from_viewers": false,
     "hide_output_from_viewers": false,
     "node_id": "zNq5ZuN9aAalHCfTfw4ROW",
     "report_properties": {
      "y": 12
     },
     "type": "CODE"
    }
   },
   "outputs": [],
   "source": [
    "import numpy as np\n",
    "import pandas as pd\n",
    "import matplotlib.pyplot as plt"
   ]
  },
  {
   "cell_type": "code",
   "execution_count": null,
   "metadata": {
    "datalore": {
     "hide_input_from_viewers": false,
     "hide_output_from_viewers": false,
     "node_id": "jATEc4z0CdmPubruym3jxW",
     "report_properties": {
      "y": 16
     },
     "type": "CODE"
    }
   },
   "outputs": [],
   "source": [
    "cd_card = pd.read_csv(\"credit_card_transaction/credit_card_info.csv\")\n",
    "cd_tst = pd.read_csv(\"credit_card_transaction/credit_transaction.csv\")\n",
    "cd_user = pd.read_csv(\"credit_card_transaction/credit_users.csv\")\n",
    "mc_code = pd.read_csv(\"credit_card_transaction/mcc_codes.csv\")"
   ]
  },
  {
   "attachments": {},
   "cell_type": "markdown",
   "metadata": {
    "datalore": {
     "hide_input_from_viewers": false,
     "hide_output_from_viewers": false,
     "node_id": "J97BoVrHEqxIrxC9H9X7Z4",
     "report_properties": {
      "y": 20
     },
     "type": "MD"
    }
   },
   "source": [
    "## viewing datatype and missing data observation"
   ]
  },
  {
   "attachments": {},
   "cell_type": "markdown",
   "metadata": {
    "datalore": {
     "hide_input_from_viewers": true,
     "hide_output_from_viewers": true,
     "node_id": "iHWljQGQR0MOmDbrshz69X",
     "type": "MD"
    }
   },
   "source": [
    "### credit card"
   ]
  },
  {
   "cell_type": "code",
   "execution_count": null,
   "metadata": {
    "datalore": {
     "hide_input_from_viewers": true,
     "hide_output_from_viewers": true,
     "node_id": "xNzAbtMBbmcOzorv6KK2sL",
     "type": "CODE"
    }
   },
   "outputs": [],
   "source": [
    "cd_card.head()"
   ]
  },
  {
   "cell_type": "code",
   "execution_count": null,
   "metadata": {
    "datalore": {
     "hide_input_from_viewers": false,
     "hide_output_from_viewers": false,
     "node_id": "16AZCBOBwU7eSsqRUDWVN5",
     "report_properties": {
      "y": 23
     },
     "type": "CODE"
    }
   },
   "outputs": [],
   "source": [
    "cd_card.info(memory_usage=\"deep\")"
   ]
  },
  {
   "attachments": {},
   "cell_type": "markdown",
   "metadata": {
    "datalore": {
     "hide_input_from_viewers": true,
     "hide_output_from_viewers": true,
     "node_id": "gIxU2iXEcQpVCr55HHd3AW",
     "type": "MD"
    }
   },
   "source": [
    "### credit transaction"
   ]
  },
  {
   "cell_type": "code",
   "execution_count": null,
   "metadata": {
    "datalore": {
     "hide_input_from_viewers": true,
     "hide_output_from_viewers": true,
     "node_id": "REjuzrv7ODxDlfQjfGVW3U",
     "type": "CODE"
    }
   },
   "outputs": [],
   "source": [
    "cd_tst.head()"
   ]
  },
  {
   "cell_type": "code",
   "execution_count": null,
   "metadata": {
    "datalore": {
     "hide_input_from_viewers": true,
     "hide_output_from_viewers": true,
     "node_id": "mVezYKGkBGIkcVxdRlmEpf",
     "type": "CODE"
    }
   },
   "outputs": [],
   "source": [
    "cd_tst.info()"
   ]
  },
  {
   "cell_type": "code",
   "execution_count": null,
   "metadata": {
    "datalore": {
     "hide_input_from_viewers": true,
     "hide_output_from_viewers": true,
     "node_id": "eGeUKbasm9SN6Is0W1zlAL",
     "type": "CODE"
    }
   },
   "outputs": [],
   "source": [
    "cd_tst.isna().sum()"
   ]
  },
  {
   "attachments": {},
   "cell_type": "markdown",
   "metadata": {
    "datalore": {
     "hide_input_from_viewers": true,
     "hide_output_from_viewers": true,
     "node_id": "IUEkpCHzk6WI2Hf1xcS2hC",
     "type": "MD"
    }
   },
   "source": [
    "### credit users"
   ]
  },
  {
   "cell_type": "code",
   "execution_count": null,
   "metadata": {
    "datalore": {
     "hide_input_from_viewers": true,
     "hide_output_from_viewers": true,
     "node_id": "5Krinn7HDxCJBa4KLOOfM6",
     "type": "CODE"
    }
   },
   "outputs": [],
   "source": [
    "cd_user.head()"
   ]
  },
  {
   "cell_type": "code",
   "execution_count": null,
   "metadata": {
    "datalore": {
     "hide_input_from_viewers": false,
     "hide_output_from_viewers": false,
     "node_id": "NduG3BmaavqMJsgp6Qr3Jj",
     "report_properties": {
      "y": 36
     },
     "type": "CODE"
    }
   },
   "outputs": [],
   "source": [
    "cd_user.info()"
   ]
  },
  {
   "cell_type": "code",
   "execution_count": null,
   "metadata": {
    "datalore": {
     "hide_input_from_viewers": false,
     "hide_output_from_viewers": false,
     "node_id": "AcXnVjmda7eiRwU4u8HZ7l",
     "report_properties": {
      "y": 49
     },
     "type": "CODE"
    }
   },
   "outputs": [],
   "source": [
    "cd_user.isna().sum()"
   ]
  },
  {
   "attachments": {},
   "cell_type": "markdown",
   "metadata": {
    "datalore": {
     "hide_input_from_viewers": true,
     "hide_output_from_viewers": true,
     "node_id": "1wpcVAgirYOkVJttFnVfhP",
     "type": "MD"
    }
   },
   "source": [
    "### mcc_codes"
   ]
  },
  {
   "cell_type": "code",
   "execution_count": null,
   "metadata": {
    "datalore": {
     "hide_input_from_viewers": true,
     "hide_output_from_viewers": true,
     "node_id": "O0MH7sbhEBqSyYtk2Ar5P0",
     "type": "CODE"
    }
   },
   "outputs": [],
   "source": [
    "mc_code.head()"
   ]
  },
  {
   "cell_type": "code",
   "execution_count": null,
   "metadata": {
    "datalore": {
     "hide_input_from_viewers": false,
     "hide_output_from_viewers": false,
     "node_id": "PFwsLcc6XQEVm2EJQecaco",
     "report_properties": {
      "y": 60
     },
     "type": "CODE"
    }
   },
   "outputs": [],
   "source": [
    "mc_code.info()"
   ]
  },
  {
   "cell_type": "code",
   "execution_count": null,
   "metadata": {
    "datalore": {
     "hide_input_from_viewers": false,
     "hide_output_from_viewers": false,
     "node_id": "J0bkmG26dIP11z3O332mXV",
     "report_properties": {
      "y": 70
     },
     "type": "CODE"
    }
   },
   "outputs": [],
   "source": [
    "mc_code.isna().sum()"
   ]
  },
  {
   "attachments": {},
   "cell_type": "markdown",
   "metadata": {
    "datalore": {
     "hide_input_from_viewers": true,
     "hide_output_from_viewers": true,
     "node_id": "bZ2iY5xl3MdthqGr9HYTbV",
     "type": "MD"
    }
   },
   "source": [
    "## Coding "
   ]
  },
  {
   "cell_type": "code",
   "execution_count": null,
   "metadata": {},
   "outputs": [],
   "source": [
    "user_prof = pd.DataFrame()"
   ]
  },
  {
   "cell_type": "code",
   "execution_count": null,
   "metadata": {},
   "outputs": [],
   "source": [
    "user_prof[\"user_id\"] = cd_user.user_id"
   ]
  },
  {
   "attachments": {},
   "cell_type": "markdown",
   "metadata": {
    "datalore": {
     "hide_input_from_viewers": true,
     "hide_output_from_viewers": true,
     "node_id": "ExMkffyGfrqdD9Ykk5B3M0",
     "type": "MD"
    }
   },
   "source": [
    "1. Ages in year"
   ]
  },
  {
   "cell_type": "code",
   "execution_count": null,
   "metadata": {
    "datalore": {
     "hide_input_from_viewers": true,
     "hide_output_from_viewers": true,
     "node_id": "HbStRXu0mLsKWj5tTrD17u",
     "type": "CODE"
    }
   },
   "outputs": [],
   "source": [
    "# get referrence date from max transaction date\n",
    "ref_date = max(pd.to_datetime(cd_tst.transaction_datetime))\n",
    "ref_date"
   ]
  },
  {
   "cell_type": "code",
   "execution_count": null,
   "metadata": {
    "datalore": {
     "hide_input_from_viewers": true,
     "hide_output_from_viewers": true,
     "node_id": "9CBYWi5XNrQYecXnvqJcmU",
     "type": "CODE"
    }
   },
   "outputs": [],
   "source": [
    "user_prof[\"current_age\"] = (ref_date - pd.to_datetime(cd_user.date_of_birth)).dt.days // 365"
   ]
  },
  {
   "cell_type": "markdown",
   "metadata": {
    "datalore": {
     "hide_input_from_viewers": true,
     "hide_output_from_viewers": true,
     "node_id": "ptGT3cKYw916xSa5imx1AC",
     "type": "CODE"
    }
   },
   "source": [
    "2. Number of active and expired cards"
   ]
  },
  {
   "cell_type": "code",
   "execution_count": null,
   "metadata": {
    "datalore": {
     "hide_input_from_viewers": true,
     "hide_output_from_viewers": true,
     "node_id": "TdEUAqTV88apb296vuAyV3",
     "type": "CODE"
    }
   },
   "outputs": [],
   "source": [
    "from pandas.tseries.offsets import MonthEnd\n",
    "\n",
    "# pd.to_datetime(cd_card[\"expires\"]).dt.strftime('%Y-%m')\n",
    "tempDate = pd.to_datetime(cd_card[\"expires\"], format=\"%m/%Y\")\n",
    "tempExp = pd.DataFrame((tempDate - ref_date).dt.days)\n",
    "tempExp[\"user_id\"] = cd_card[\"user_id\"]\n",
    "tempExp[\"expired_cards\"] = tempExp.expires < 0\n",
    "test = tempExp.copy()\n",
    "tempExp = tempExp.groupby([\"user_id\",\"expired_cards\"])['expires'].agg(['count']).unstack(fill_value=0)\n",
    "\n",
    "user_prof = pd.merge(user_prof, tempExp, on=\"user_id\")\n",
    "user_prof.columns = ['user_id', 'current_age', 'active_cards', 'expired_cards']"
   ]
  },
  {
   "cell_type": "code",
   "execution_count": null,
   "metadata": {},
   "outputs": [],
   "source": [
    "user_prof"
   ]
  },
  {
   "attachments": {},
   "cell_type": "markdown",
   "metadata": {},
   "source": [
    "3. Total credit limit of active cards"
   ]
  },
  {
   "cell_type": "code",
   "execution_count": null,
   "metadata": {},
   "outputs": [],
   "source": [
    "# Credit_limit_active\n",
    "tempActiveCard = pd.DataFrame((tempDate - ref_date).dt.days)\n",
    "tempActiveCard[\"user_id\"] = cd_card['user_id']\n",
    "tempActiveCard[\"active_cards\"] = tempActiveCard.expires > 0\n",
    "\n",
    "# Copy Dataframe\n",
    "tempCl = tempActiveCard.copy()\n",
    "\n",
    "# Add Dataframe\n",
    "tempCl[\"credit_limit_active\"] = cd_card['credit_limit']\n",
    "tempCl['credit_limit_active'] = tempCl.credit_limit_active.str.extract('(\\d+)').astype(int)\n",
    "\n",
    "# Drop expired card\n",
    "tempCl = tempCl[tempCl.active_cards!=False]\n",
    "\n",
    "# Each user_id have 2 type of cards -> active / expired\n",
    "# and different amount of them\n",
    "tempCl = tempCl.groupby([\"user_id\"])['credit_limit_active'].agg(['sum']).unstack(fill_value=0).reset_index(name='credit_limit_active')\n",
    "\n",
    "# Merge in to user_prof\n",
    "user_prof = pd.merge(user_prof,tempCl, on = \"user_id\")\n",
    "user_prof = user_prof.drop(columns='level_0')"
   ]
  },
  {
   "attachments": {},
   "cell_type": "markdown",
   "metadata": {},
   "source": [
    "4. Time since first card openned (acct_open_date) in months"
   ]
  },
  {
   "cell_type": "code",
   "execution_count": null,
   "metadata": {},
   "outputs": [],
   "source": [
    "# Create Dataframe to keep user_id and acct_open_date from credit_card_info\n",
    "tempOC = pd.DataFrame()\n",
    "tempOC[\"user_id\"] = cd_card['user_id']\n",
    "tempOC[\"time_since_first_card_months\"] = pd.to_datetime(cd_card['acct_open_date'])\n",
    "\n",
    "# Select min_date_time of acct_open_date in each user_id\n",
    "tempOC = tempOC.groupby([\"user_id\"])['time_since_first_card_months'].min().reset_index()\n",
    "\n",
    "# ref_date - min_date_time in each user_id\n",
    "# and turn value in to Month\n",
    "tempOC[\"time_since_first_card_months\"] = (ref_date - tempOC['time_since_first_card_months']) // np.timedelta64(1, 'M')\n",
    "\n",
    "# Merge in to user_prof\n",
    "user_prof = pd.merge(user_prof,tempOC, on = \"user_id\")"
   ]
  },
  {
   "attachments": {},
   "cell_type": "markdown",
   "metadata": {},
   "source": [
    "5. Time since last transaction in days"
   ]
  },
  {
   "cell_type": "code",
   "execution_count": null,
   "metadata": {},
   "outputs": [],
   "source": [
    "# Create Dataframe\n",
    "tempLast = pd.DataFrame()\n",
    "tempLast[\"user_id\"] = cd_tst['user_id']\n",
    "tempLast[\"time_since_last_transaction_days\"] = pd.to_datetime(cd_tst['transaction_datetime'])\n",
    "\n",
    "# Select max_date_time of last transaction day in each user_id\n",
    "tempLast = tempLast.groupby([\"user_id\"])['time_since_last_transaction_days'].max().reset_index()\n",
    "\n",
    "# ref_date - max_date_time in each user_id\n",
    "# and turn value in to Day\n",
    "tempLast['time_since_last_transaction_days'] = (ref_date - tempLast['time_since_last_transaction_days']) // np.timedelta64(1, 'D')\n",
    "\n",
    "# Merge in to user_prof\n",
    "user_prof = pd.merge(user_prof,tempLast, on = \"user_id\")"
   ]
  },
  {
   "attachments": {},
   "cell_type": "markdown",
   "metadata": {},
   "source": [
    "6. Distribution of active card type (Debit, Credit, Prepaid)"
   ]
  },
  {
   "cell_type": "code",
   "execution_count": null,
   "metadata": {},
   "outputs": [],
   "source": [
    "# Copy Dataframe\n",
    "temptypecard = tempActiveCard.copy()\n",
    "temptypecard[\"card_type\"] = cd_card['card_type']\n",
    "\n",
    "# Drop expired card\n",
    "temptypecard = temptypecard[temptypecard.active_cards!=False]\n",
    "testtypecard = pd.pivot_table(temptypecard,index=['user_id'],columns=['card_type'],values=['active_cards'],aggfunc='count').fillna(0).reset_index()\n",
    "\n",
    "# Merge in to user_prof\n",
    "user_prof = pd.merge(user_prof,testtypecard, on = \"user_id\")\n",
    "\n",
    "# Rename columns\n",
    "# Credit             ->     active_card_credit\n",
    "# Debit              ->     active_card_debit\n",
    "# Debit (Prepaid)    ->     active_card_debit_(prepaid)\n",
    "user_prof = user_prof.rename(columns={('active_cards', 'Credit'):\"active_card_credit\",('active_cards', 'Debit'):\"active_card_debit\",('active_cards', 'Debit (Prepaid)'):\"active_card_debit_(prepaid)\"})"
   ]
  },
  {
   "attachments": {},
   "cell_type": "markdown",
   "metadata": {},
   "source": [
    "7. Number of merchants that this user made transaction"
   ]
  },
  {
   "cell_type": "code",
   "execution_count": null,
   "metadata": {},
   "outputs": [],
   "source": [
    "# Create Dataframe to keep user_id and merchant_id from credit_transaction\n",
    "tempM = pd.DataFrame()\n",
    "tempM[\"user_id\"] = cd_tst['user_id']\n",
    "tempM[\"num_merchants\"] = cd_tst['merchant_id']\n",
    "\n",
    "# Each user_id have different number of merchants\n",
    "tempM = tempM.groupby([\"user_id\"]).agg({\"num_merchants\":\"nunique\"})\n",
    "\n",
    "# Merge in to user_prof\n",
    "user_prof = pd.merge(user_prof,tempM, on = \"user_id\")"
   ]
  },
  {
   "attachments": {},
   "cell_type": "markdown",
   "metadata": {},
   "source": [
    "8. Number of states that this user made transaction"
   ]
  },
  {
   "cell_type": "code",
   "execution_count": null,
   "metadata": {},
   "outputs": [],
   "source": [
    "# Create Dataframe to keep user_id and merchant_state from credit_transaction\n",
    "tempstates = pd.DataFrame()\n",
    "tempstates[\"user_id\"] = cd_tst['user_id']\n",
    "tempstates[\"num_states\"] = cd_tst['merchant_state']\n",
    "\n",
    "# Each user_id have different number of states\n",
    "tempstates = tempstates.groupby([\"user_id\"]).agg({\"num_states\":\"nunique\"})\n",
    "\n",
    "# Merge in to user_prof\n",
    "user_prof = pd.merge(user_prof,tempstates, on = \"user_id\")"
   ]
  },
  {
   "attachments": {},
   "cell_type": "markdown",
   "metadata": {},
   "source": [
    "9. Number of times that user made transaction outside the USA (online transaction counts as nonUSA transaction)"
   ]
  },
  {
   "cell_type": "code",
   "execution_count": null,
   "metadata": {},
   "outputs": [],
   "source": [
    "# Create Dataframe to keep user_id and merchant_city from credit_transaction\n",
    "tempnonUSA = pd.DataFrame()\n",
    "tempnonUSA[\"user_id\"] = cd_tst['user_id']\n",
    "tempnonUSA[\"abroad_tx\"] = cd_tst['merchant_city']\n",
    "\n",
    "# Check if value in abroad_tx is \"ONLINE\" then return True\n",
    "#       if not return False\n",
    "tempnonUSA['abroad_tx'] = tempnonUSA['abroad_tx'].isin(['ONLINE'])\n",
    "\n",
    "# Then keep row that return True\n",
    "tempnonUSA = tempnonUSA[tempnonUSA.abroad_tx == True]\n",
    "\n",
    "# Each user_id have different nonUSA transaction times\n",
    "tempnonUSA = tempnonUSA.groupby([\"user_id\"]).agg({\"abroad_tx\":\"size\"}).reset_index()\n",
    "\n",
    "# Merge in to user_prof\n",
    "user_prof = pd.merge(user_prof,tempnonUSA, on = \"user_id\",how = \"left\")"
   ]
  },
  {
   "cell_type": "code",
   "execution_count": null,
   "metadata": {},
   "outputs": [],
   "source": [
    "user_prof.head(10)"
   ]
  }
 ],
 "metadata": {
  "datalore": {
   "base_environment": "default",
   "computation_mode": "REACTIVE",
   "package_manager": "pip",
   "packages": [],
   "version": 1
  },
  "kernelspec": {
   "display_name": "Python 3",
   "language": "python",
   "name": "python3"
  },
  "language_info": {
   "codemirror_mode": {
    "name": "ipython",
    "version": 3
   },
   "file_extension": ".py",
   "mimetype": "text/x-python",
   "name": "python",
   "nbconvert_exporter": "python",
   "pygments_lexer": "ipython3",
   "version": "3.11.0"
  },
  "vscode": {
   "interpreter": {
    "hash": "aee8b7b246df8f9039afb4144a1f6fd8d2ca17a180786b69acc140d282b71a49"
   }
  }
 },
 "nbformat": 4,
 "nbformat_minor": 4
}
